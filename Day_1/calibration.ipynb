{
 "cells": [
  {
   "cell_type": "markdown",
   "id": "2f1102b2-c806-4d55-9c77-84a0e8bd2495",
   "metadata": {
    "tags": []
   },
   "source": [
    "## Part 1"
   ]
  },
  {
   "cell_type": "code",
   "execution_count": null,
   "id": "fd2a3e5b-8fe8-44b5-80ae-f3fa19fdb9fd",
   "metadata": {},
   "outputs": [],
   "source": [
    "import re"
   ]
  },
  {
   "cell_type": "code",
   "execution_count": 1,
   "id": "ca60aeeb-213c-4c45-b361-9649209dc09e",
   "metadata": {
    "tags": []
   },
   "outputs": [],
   "source": [
    "with open('cal_input.txt', 'r') as f:\n",
    "    lines = f.readlines()"
   ]
  },
  {
   "cell_type": "code",
   "execution_count": 17,
   "id": "8977fc27-b060-4db1-8f23-671bb0b430b8",
   "metadata": {
    "tags": []
   },
   "outputs": [],
   "source": [
    "sum = 0\n",
    "for line in lines:\n",
    "    nums = re.findall('\\d', line)\n",
    "    num = nums[0] + nums[-1]\n",
    "    sum += int(num)"
   ]
  },
  {
   "cell_type": "code",
   "execution_count": 18,
   "id": "1cc38158-6bb1-413f-9c79-7eb63565c22f",
   "metadata": {
    "tags": []
   },
   "outputs": [
    {
     "data": {
      "text/plain": [
       "55130"
      ]
     },
     "execution_count": 18,
     "metadata": {},
     "output_type": "execute_result"
    }
   ],
   "source": [
    "sum"
   ]
  },
  {
   "cell_type": "markdown",
   "id": "6c0de063-09a5-42a9-8d88-b2c45f86466a",
   "metadata": {},
   "source": [
    "## Part 2"
   ]
  },
  {
   "cell_type": "code",
   "execution_count": 109,
   "id": "ccffa1ae-e2bf-49c1-b6ba-aec49a36a02f",
   "metadata": {
    "tags": []
   },
   "outputs": [],
   "source": [
    "numbers = {'one': '1', 'two': '2', 'three': '3', 'four': '4', 'five': '5', 'six': '6', 'seven': '7', 'eight': '8', 'nine': '9', 'zero': '0'}\n",
    "digits = dict()\n",
    "for i in range(10):\n",
    "    numbers[str(i)] = str(i)"
   ]
  },
  {
   "cell_type": "code",
   "execution_count": 50,
   "id": "d3782ae5-0661-47cb-8a6f-ce6cd400c511",
   "metadata": {
    "tags": []
   },
   "outputs": [],
   "source": [
    "with open('cal_input.txt', 'r') as f:\n",
    "    lines = f.readlines()"
   ]
  },
  {
   "cell_type": "code",
   "execution_count": 130,
   "id": "eeb2ea0f-6a0c-464a-9719-d8c942853b41",
   "metadata": {
    "tags": []
   },
   "outputs": [],
   "source": [
    "sum = 0"
   ]
  },
  {
   "cell_type": "code",
   "execution_count": 131,
   "id": "f9d787f3-d8a7-4b60-b105-201dd8f418d1",
   "metadata": {
    "tags": []
   },
   "outputs": [],
   "source": [
    "for line in lines:\n",
    "    current_min = len(line)\n",
    "    current_max = 0\n",
    "    end = 0\n",
    "    start = 0\n",
    "    for key, value in numbers.items():\n",
    "        inds = [m.start() for m in re.finditer(key, line)]\n",
    "        if inds:\n",
    "            for i in [0, -1]:\n",
    "                ind = inds[i]\n",
    "                if ind < current_min:\n",
    "                    start = value\n",
    "                    current_min = ind\n",
    "                if ind >= current_max:\n",
    "                    end = value\n",
    "                    current_max = ind\n",
    "    sum += int(start + end)"
   ]
  },
  {
   "cell_type": "code",
   "execution_count": 132,
   "id": "15d2bb8d-7f1a-4509-84d6-51657774f055",
   "metadata": {
    "tags": []
   },
   "outputs": [
    {
     "data": {
      "text/plain": [
       "54985"
      ]
     },
     "execution_count": 132,
     "metadata": {},
     "output_type": "execute_result"
    }
   ],
   "source": [
    "sum"
   ]
  },
  {
   "cell_type": "markdown",
   "id": "e4a10071-1fbb-4d4f-9536-46795b7de3fd",
   "metadata": {},
   "source": [
    "## Alternative"
   ]
  },
  {
   "cell_type": "code",
   "execution_count": 164,
   "id": "f6c01b7d-ed23-4356-88d8-525dc5cd2473",
   "metadata": {
    "tags": []
   },
   "outputs": [],
   "source": [
    "import re\n",
    "with open('cal_input.txt', 'r') as file:\n",
    "    lines = file.readlines()\n",
    "sum = 0\n",
    "lines1 = []\n",
    "values1 = []\n",
    "# need to preserve letters e.g. 'oneight' should give 8 as final number --> 'on1eight' --> 'on1eig8ht' --> 8\n",
    "replacements = {'one' : 'on1e', 'two' : 'tw2o', 'three' : 'thr3e','four': 'fo4ur', 'five':'fi5ve','six': 'si6x','seven': 'sev7en','eight': 'eig8ht', 'nine': 'ni9ne'}\n",
    "for line in lines:\n",
    "    for key, value in replacements.items():\n",
    "        line = line.replace(key, value)  \n",
    "    lines1.append(line)\n",
    "    first_digit = re.search('\\d', line).group(0)\n",
    "    second_digit = re.search('\\d', line[::-1]).group(0)\n",
    "    values1.append(first_digit + second_digit)\n",
    "    sum += int(first_digit + second_digit)"
   ]
  },
  {
   "cell_type": "code",
   "execution_count": null,
   "id": "89e14241-3f0e-4b21-bba6-743c4e9ce93e",
   "metadata": {},
   "outputs": [],
   "source": []
  }
 ],
 "metadata": {
  "kernelspec": {
   "display_name": "Python 3 (ipykernel)",
   "language": "python",
   "name": "python3"
  },
  "language_info": {
   "codemirror_mode": {
    "name": "ipython",
    "version": 3
   },
   "file_extension": ".py",
   "mimetype": "text/x-python",
   "name": "python",
   "nbconvert_exporter": "python",
   "pygments_lexer": "ipython3",
   "version": "3.11.5"
  }
 },
 "nbformat": 4,
 "nbformat_minor": 5
}
