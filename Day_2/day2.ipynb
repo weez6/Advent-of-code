{
 "cells": [
  {
   "cell_type": "code",
   "execution_count": 84,
   "id": "00378e6e-a54b-47a2-b34d-d1a4f928b75a",
   "metadata": {
    "tags": []
   },
   "outputs": [],
   "source": [
    "import re"
   ]
  },
  {
   "cell_type": "code",
   "execution_count": 39,
   "id": "b09a1a91-73ed-4a8a-a6c5-dd4664cdfe24",
   "metadata": {
    "tags": []
   },
   "outputs": [],
   "source": [
    "with open('input.txt', 'r') as f:\n",
    "    lines = f.readlines()\n",
    "lines = [line.replace('\\n','').split(';') for line in lines]\n",
    "lines = [[line[0].split(':')[1], *line[1:]] for line in lines]\n",
    "lines = [pick.split(',') for line in lines for pick in line]"
   ]
  },
  {
   "cell_type": "code",
   "execution_count": 69,
   "id": "54e7f5d9-bd4b-439a-8e5a-3d524de9c80c",
   "metadata": {
    "tags": []
   },
   "outputs": [],
   "source": [
    "colours_dict = {'red': 0, 'green': 1, 'blue': 2}\n",
    "maxes = [12, 13, 14]"
   ]
  },
  {
   "cell_type": "code",
   "execution_count": 103,
   "id": "cb8c285a-954c-4fee-9579-9d3f5383e799",
   "metadata": {
    "tags": []
   },
   "outputs": [],
   "source": [
    "possible_games = []\n",
    "fewest_cubes = []\n",
    "for game_num, game in enumerate(lines):\n",
    "    flag = 0\n",
    "    min_cols = [0, 0, 0]\n",
    "    for pick in game:\n",
    "        numbers = pick.split(',')\n",
    "        numbers = [n.strip().split(' ') for n in numbers]\n",
    "        colours = [(n[0], colours_dict[n[1]]) for n in numbers]\n",
    "        for c in colours:\n",
    "            if int(c[0]) > min_cols[c[1]]:\n",
    "                min_cols[c[1]] = int(c[0])\n",
    "            if int(c[0]) > maxes[c[1]]:\n",
    "                flag = 1\n",
    "    fewest_cubes.append(min_cols)\n",
    "    if not flag:\n",
    "        possible_games.append(game_num + 1)             "
   ]
  },
  {
   "cell_type": "code",
   "execution_count": 104,
   "id": "168f7336-9f11-4798-bd6b-7845af7a2469",
   "metadata": {
    "tags": []
   },
   "outputs": [
    {
     "data": {
      "text/plain": [
       "2447"
      ]
     },
     "execution_count": 104,
     "metadata": {},
     "output_type": "execute_result"
    }
   ],
   "source": [
    "# Part 1\n",
    "sum(possible_games)"
   ]
  },
  {
   "cell_type": "code",
   "execution_count": 105,
   "id": "a63a33bf-21f5-47d1-88c0-1c53f94c0268",
   "metadata": {
    "tags": []
   },
   "outputs": [
    {
     "data": {
      "text/plain": [
       "56322"
      ]
     },
     "execution_count": 105,
     "metadata": {},
     "output_type": "execute_result"
    }
   ],
   "source": [
    "# Part 2\n",
    "sum([x[0] * x[1] * x[2] for x in fewest_cubes])"
   ]
  },
  {
   "cell_type": "code",
   "execution_count": null,
   "id": "ff80ca72-b060-4f1a-8f5c-0fa7273b6356",
   "metadata": {},
   "outputs": [],
   "source": []
  }
 ],
 "metadata": {
  "kernelspec": {
   "display_name": "Python 3 (ipykernel)",
   "language": "python",
   "name": "python3"
  },
  "language_info": {
   "codemirror_mode": {
    "name": "ipython",
    "version": 3
   },
   "file_extension": ".py",
   "mimetype": "text/x-python",
   "name": "python",
   "nbconvert_exporter": "python",
   "pygments_lexer": "ipython3",
   "version": "3.11.5"
  }
 },
 "nbformat": 4,
 "nbformat_minor": 5
}
