{
 "cells": [
  {
   "cell_type": "code",
   "execution_count": 9,
   "id": "dcba5d82-ceae-4bcf-9da7-9dd555f15b51",
   "metadata": {
    "tags": []
   },
   "outputs": [],
   "source": [
    "import re"
   ]
  },
  {
   "cell_type": "code",
   "execution_count": 198,
   "id": "d88f4945-10b4-478b-adac-02fbefa61be1",
   "metadata": {
    "tags": []
   },
   "outputs": [],
   "source": [
    "with open('input.txt', 'r') as f:\n",
    "    rows = f.readlines()\n",
    "    rows = [row.replace('\\n','') for row in rows]"
   ]
  },
  {
   "cell_type": "code",
   "execution_count": 201,
   "id": "d7340ae8-8e3c-4756-91a6-1d1517a6c808",
   "metadata": {
    "tags": []
   },
   "outputs": [],
   "source": [
    "def isSymbol(char):\n",
    "    if char.isnumeric():\n",
    "        return False\n",
    "    if char == '.':\n",
    "        return False\n",
    "    return True\n",
    "\n",
    "\n",
    "def isPart(s_ind, e_ind, row_num, numbers):\n",
    "    num_rows = len(numbers)\n",
    "    len_row = len(numbers[0])\n",
    "    \n",
    "    if s_ind > 0 and isSymbol(numbers[row_num][s_ind - 1]):\n",
    "        return True\n",
    "    if e_ind < len_row - 1 and isSymbol(numbers[row_num][e_ind + 1]):\n",
    "        return True\n",
    "\n",
    "    if row_num > 0:\n",
    "        for char in numbers[row_num - 1][s_ind:e_ind+1]:\n",
    "            if isSymbol(char):\n",
    "                return True\n",
    "        if s_ind > 0 and isSymbol(numbers[row_num - 1][s_ind - 1]):\n",
    "            return True\n",
    "        if e_ind < len_row - 1 and isSymbol(numbers[row_num - 1][e_ind+1]):\n",
    "            return True\n",
    "    if row_num < num_rows - 1:\n",
    "        for char in numbers[row_num + 1][s_ind:e_ind+1]:\n",
    "            if isSymbol(char):\n",
    "                return True\n",
    "        if s_ind > 0 and isSymbol(numbers[row_num + 1][s_ind - 1]):\n",
    "            return True\n",
    "        if e_ind < len_row - 1 and isSymbol(numbers[row_num + 1][e_ind+1]):\n",
    "            return True\n",
    "\n",
    "def returnAdjacents(coord, num_rows, num_cols):\n",
    "    adjacents = []\n",
    "    x, y = coord[0], coord[1]\n",
    "    if x > 0:\n",
    "        adjacents.append((x-1, y))\n",
    "        if y > 0:\n",
    "            adjacents.append((x-1, y-1))\n",
    "        if y < num_cols - 1:\n",
    "            adjacents.append((x-1, y+1))\n",
    "    if x < num_rows - 1:\n",
    "        adjacents.append((x+1, y))\n",
    "        if y > 0:\n",
    "            adjacents.append((x+1, y-1))\n",
    "        if y < num_cols-1:\n",
    "            adjacents.append((x+1, y+1))\n",
    "    if y > 0:\n",
    "        adjacents.append((x, y-1))\n",
    "    if y < num_cols - 1:\n",
    "        adjacents.append((x, y+1))\n",
    "        \n",
    "    return adjacents\n",
    "    \n",
    "            \n",
    "def isGear(star, parts_coords, num_rows, num_cols):\n",
    "    parts = set() # needs to be a set to not add the same part number twice\n",
    "    adjs = returnAdjacents(star, num_rows, num_cols)\n",
    "    for p in parts_coords:\n",
    "        if p[0:2] in adjs:\n",
    "            parts.add(p[2])\n",
    "    parts = list(parts)\n",
    "    return parts[0] * parts[1] if len(parts) == 2 else 0\n",
    "    \n",
    "    "
   ]
  },
  {
   "cell_type": "code",
   "execution_count": 199,
   "id": "61c59231-c042-4cb0-88cb-9f8b4709fde6",
   "metadata": {
    "tags": []
   },
   "outputs": [],
   "source": [
    "numbers = [[(m.start(), m.end() - 1, m.group(0)) for m in re.finditer('\\d+', row)] for row in rows]\n",
    "# list of lists: (start index, end index, 'num')\n",
    "parts = []\n",
    "parts_coords = []\n",
    "for i, row in enumerate(numbers):\n",
    "    for num in row:\n",
    "        if isPart(num[0], num[1], i, rows):\n",
    "            parts.append(int(num[2]))\n",
    "            for j in range(num[1] - num[0] + 1):\n",
    "                parts_coords.append((i, num[0] + j, int(num[2])))"
   ]
  },
  {
   "cell_type": "code",
   "execution_count": 196,
   "id": "403d9142-6056-4c37-8a30-94f4841bcb86",
   "metadata": {
    "tags": []
   },
   "outputs": [
    {
     "data": {
      "text/plain": [
       "4361"
      ]
     },
     "execution_count": 196,
     "metadata": {},
     "output_type": "execute_result"
    }
   ],
   "source": [
    "# Part 1\n",
    "sum(parts)"
   ]
  },
  {
   "cell_type": "code",
   "execution_count": 202,
   "id": "29916f0c-a617-4ca7-9144-539f493fdf14",
   "metadata": {
    "tags": []
   },
   "outputs": [],
   "source": [
    "stars = [(i, j) for i, row in enumerate(rows) for j, char in enumerate(row) if char == '*']\n",
    "gears = [isGear(s, parts_coords, len(rows), len(rows[0])) for s in stars]"
   ]
  },
  {
   "cell_type": "code",
   "execution_count": 203,
   "id": "33462c05-4f0b-4361-844b-111a85c25111",
   "metadata": {
    "tags": []
   },
   "outputs": [
    {
     "data": {
      "text/plain": [
       "84051670"
      ]
     },
     "execution_count": 203,
     "metadata": {},
     "output_type": "execute_result"
    }
   ],
   "source": [
    "sum(gears)"
   ]
  },
  {
   "cell_type": "code",
   "execution_count": null,
   "id": "3c35404d-32e1-4ea9-a06b-ad532f1285ba",
   "metadata": {},
   "outputs": [],
   "source": []
  }
 ],
 "metadata": {
  "kernelspec": {
   "display_name": "Python 3 (ipykernel)",
   "language": "python",
   "name": "python3"
  },
  "language_info": {
   "codemirror_mode": {
    "name": "ipython",
    "version": 3
   },
   "file_extension": ".py",
   "mimetype": "text/x-python",
   "name": "python",
   "nbconvert_exporter": "python",
   "pygments_lexer": "ipython3",
   "version": "3.11.5"
  }
 },
 "nbformat": 4,
 "nbformat_minor": 5
}
