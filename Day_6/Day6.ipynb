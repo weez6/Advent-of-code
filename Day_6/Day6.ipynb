{
 "cells": [
  {
   "cell_type": "code",
   "execution_count": 13,
   "id": "5083707f-5e6f-4c4e-b4f4-a005be8f922c",
   "metadata": {
    "tags": []
   },
   "outputs": [],
   "source": [
    "import re"
   ]
  },
  {
   "cell_type": "code",
   "execution_count": 26,
   "id": "0744d111-c9ed-4a4c-98ef-0764e2a591ce",
   "metadata": {
    "tags": []
   },
   "outputs": [],
   "source": [
    "with open('input.txt', 'r') as f:\n",
    "    lines = f.readlines()\n",
    "lines = [l.strip() for l in lines]  \n",
    "times = [int(x) for x in re.findall('\\d+', lines[0].split(':')[1:][0])]\n",
    "distances = [int(x) for x in re.findall('\\d+', lines[1].split(':')[1:][0])]\n",
    "num_races = len(times)"
   ]
  },
  {
   "cell_type": "code",
   "execution_count": 27,
   "id": "d2a1504f-d664-4dd2-9f11-3984234ec3c0",
   "metadata": {
    "tags": []
   },
   "outputs": [],
   "source": [
    "num_ways = []\n",
    "for i, time in enumerate(times):\n",
    "    winning_distance = distances[i]\n",
    "    accels = [x for x in range(0, time + 1)]\n",
    "    dists = [(time-acc) * acc for i, acc in enumerate(accels)]\n",
    "    num_ways.append(len([d for d in dists if d > winning_distance]))"
   ]
  },
  {
   "cell_type": "code",
   "execution_count": 28,
   "id": "ac8b6f22-cc79-45ba-9e77-a99f575a7d13",
   "metadata": {
    "tags": []
   },
   "outputs": [
    {
     "data": {
      "text/plain": [
       "4811940"
      ]
     },
     "execution_count": 28,
     "metadata": {},
     "output_type": "execute_result"
    }
   ],
   "source": [
    "res = 1\n",
    "for x in num_ways:\n",
    "    res *= x\n",
    "res"
   ]
  },
  {
   "cell_type": "markdown",
   "id": "9bea691e-046e-40c8-a16b-f451a946bcb7",
   "metadata": {},
   "source": [
    "## Part 2"
   ]
  },
  {
   "cell_type": "code",
   "execution_count": 41,
   "id": "448a66a8-89b1-4742-aedb-5a369caf7361",
   "metadata": {
    "tags": []
   },
   "outputs": [],
   "source": [
    "with open('input.txt', 'r') as f:\n",
    "    lines = f.readlines()\n",
    "time, distance = [int(line.strip().replace(' ', '').split(':')[1]) for line in lines]"
   ]
  },
  {
   "cell_type": "code",
   "execution_count": 46,
   "id": "5f6a50b3-9031-41c9-85b6-e55c95e8ed14",
   "metadata": {
    "tags": []
   },
   "outputs": [
    {
     "data": {
      "text/plain": [
       "30077773"
      ]
     },
     "execution_count": 46,
     "metadata": {},
     "output_type": "execute_result"
    }
   ],
   "source": [
    "accels = [x for x in range(0, time + 1)]\n",
    "dists = [(time - acc) * acc for i, acc in enumerate(accels)]\n",
    "len([d for d in dists if d > distance])"
   ]
  },
  {
   "cell_type": "code",
   "execution_count": null,
   "id": "13c87cfe-0677-4669-96cf-84adf37fcf63",
   "metadata": {},
   "outputs": [],
   "source": []
  }
 ],
 "metadata": {
  "kernelspec": {
   "display_name": "Python 3 (ipykernel)",
   "language": "python",
   "name": "python3"
  },
  "language_info": {
   "codemirror_mode": {
    "name": "ipython",
    "version": 3
   },
   "file_extension": ".py",
   "mimetype": "text/x-python",
   "name": "python",
   "nbconvert_exporter": "python",
   "pygments_lexer": "ipython3",
   "version": "3.11.5"
  }
 },
 "nbformat": 4,
 "nbformat_minor": 5
}
