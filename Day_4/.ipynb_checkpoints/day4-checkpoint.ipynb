{
 "cells": [
  {
   "cell_type": "code",
   "execution_count": null,
   "id": "9104973b-534f-458c-8264-87e7c36e4367",
   "metadata": {},
   "outputs": [],
   "source": []
  },
  {
   "cell_type": "code",
   "execution_count": null,
   "id": "59795e74-e20f-433d-8fcc-0c2d14c305d9",
   "metadata": {},
   "outputs": [],
   "source": [
    "with open('test.txt', 'r') as f:\n",
    "    lines = f.readlines()\n",
    "lines = [l.strip().replace('\\n','').split('|') for l in lines]"
   ]
  },
  {
   "cell_type": "code",
   "execution_count": null,
   "id": "87b7561c-9c7f-4370-ba96-a418fa00560b",
   "metadata": {},
   "outputs": [],
   "source": []
  },
  {
   "cell_type": "code",
   "execution_count": null,
   "id": "cbe2bfdd-8293-4ef8-b838-b666bb58dfcd",
   "metadata": {},
   "outputs": [],
   "source": []
  }
 ],
 "metadata": {
  "kernelspec": {
   "display_name": "Python 3 (ipykernel)",
   "language": "python",
   "name": "python3"
  },
  "language_info": {
   "codemirror_mode": {
    "name": "ipython",
    "version": 3
   },
   "file_extension": ".py",
   "mimetype": "text/x-python",
   "name": "python",
   "nbconvert_exporter": "python",
   "pygments_lexer": "ipython3",
   "version": "3.11.5"
  }
 },
 "nbformat": 4,
 "nbformat_minor": 5
}
