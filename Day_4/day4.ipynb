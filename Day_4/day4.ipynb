{
 "cells": [
  {
   "cell_type": "code",
   "execution_count": 73,
   "id": "9104973b-534f-458c-8264-87e7c36e4367",
   "metadata": {
    "tags": []
   },
   "outputs": [],
   "source": [
    "import math"
   ]
  },
  {
   "cell_type": "code",
   "execution_count": 124,
   "id": "59795e74-e20f-433d-8fcc-0c2d14c305d9",
   "metadata": {
    "tags": []
   },
   "outputs": [],
   "source": [
    "with open('input.txt', 'r') as f:\n",
    "    lines = f.readlines()\n",
    "lines = [l.strip().replace('\\n','').split('| ') for l in lines]\n",
    "lines = [[line[0].split(':')[1].strip(), *line[1:]] for line in lines]\n",
    "lines = [[l.split(' ') for l in line] for line in lines]\n",
    "lines = [[[l for l in subline if len(l)>0] for subline in line] for line in lines]\n",
    "\n",
    "num_winning = [len([int(x) for x in line[1] if x in line[0]]) for line in lines]\n",
    "powers = [math.pow(2, x-1) for x in num_winning if x > 0]"
   ]
  },
  {
   "cell_type": "code",
   "execution_count": 125,
   "id": "0cf39124-bb3a-44ef-b00f-da2fb874f9f0",
   "metadata": {
    "tags": []
   },
   "outputs": [
    {
     "data": {
      "text/plain": [
       "27059"
      ]
     },
     "execution_count": 125,
     "metadata": {},
     "output_type": "execute_result"
    }
   ],
   "source": [
    "# Part 1\n",
    "int(sum(powers))"
   ]
  },
  {
   "cell_type": "code",
   "execution_count": 126,
   "id": "2874e14b-b3a0-41a0-a977-140411ba4d22",
   "metadata": {
    "tags": []
   },
   "outputs": [],
   "source": [
    "# Part 2\n",
    "l = len(lines)\n",
    "copies = [1] * l\n",
    "for i, card_points in enumerate(num_winning):\n",
    "    if card_points >= l - i - 1:\n",
    "        copies[i+1:] = [item + copies[i] for item in copies[i+1:]]\n",
    "    elif card_points > 0:\n",
    "        copies[i+1:i+card_points+1] = [item + copies[i] for item in copies[i+1:i+card_points+1]]\n",
    "        "
   ]
  },
  {
   "cell_type": "code",
   "execution_count": 127,
   "id": "e3b8eefa-4cc9-4b0f-ad1b-75ab2117cb79",
   "metadata": {
    "tags": []
   },
   "outputs": [
    {
     "data": {
      "text/plain": [
       "5744979"
      ]
     },
     "execution_count": 127,
     "metadata": {},
     "output_type": "execute_result"
    }
   ],
   "source": [
    "sum(copies)"
   ]
  },
  {
   "cell_type": "code",
   "execution_count": null,
   "id": "305e7203-5456-4d9d-b2e9-42b4d038edef",
   "metadata": {},
   "outputs": [],
   "source": []
  }
 ],
 "metadata": {
  "kernelspec": {
   "display_name": "Python 3 (ipykernel)",
   "language": "python",
   "name": "python3"
  },
  "language_info": {
   "codemirror_mode": {
    "name": "ipython",
    "version": 3
   },
   "file_extension": ".py",
   "mimetype": "text/x-python",
   "name": "python",
   "nbconvert_exporter": "python",
   "pygments_lexer": "ipython3",
   "version": "3.11.5"
  }
 },
 "nbformat": 4,
 "nbformat_minor": 5
}
