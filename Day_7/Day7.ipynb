{
 "cells": [
  {
   "cell_type": "code",
   "execution_count": 7,
   "id": "3215abcc-d412-4f42-80f5-3afb1ea8b7e3",
   "metadata": {
    "tags": []
   },
   "outputs": [],
   "source": [
    "from collections import Counter"
   ]
  },
  {
   "cell_type": "code",
   "execution_count": 248,
   "id": "e9be1e14-8265-4f98-924c-5f889729881f",
   "metadata": {
    "tags": []
   },
   "outputs": [],
   "source": [
    "with open('input.txt', 'r') as f:\n",
    "    lines = f.readlines()\n",
    "hand_vals = [l.strip().split() for l in lines]\n",
    "# hands = [x[0] for x in lines]\n",
    "# values = [int(x[1]) for x in lines]\n"
   ]
  },
  {
   "cell_type": "code",
   "execution_count": 249,
   "id": "d942805b-3847-422b-a1f5-558205dea9aa",
   "metadata": {
    "tags": []
   },
   "outputs": [],
   "source": [
    "def order(hands: list) -> list:\n",
    "    card_order = 'AKQJT98765432'\n",
    "    label_order = '54F321H'\n",
    "    labels = []\n",
    "        \n",
    "    def sort_cards(hands: list) -> list:\n",
    "        c = Counter([h[0] for h in hands])\n",
    "        has_repeats = c.most_common(1)[0][1] > 1\n",
    "        hands.sort(key = lambda x: card_order.index(x[0]))\n",
    "        if not has_repeats or len(hands[0]) == 1:\n",
    "            return hands\n",
    "    \n",
    "        new_list = []\n",
    "        i = 0\n",
    "        while(i < len(hands)):\n",
    "            if i == len(hands) - 1:\n",
    "                new_list.append(hands[i])\n",
    "                break\n",
    "            if hands[i][0] != hands[i+1][0]:\n",
    "                new_list.append(hands[i])\n",
    "                i+=1\n",
    "            else:\n",
    "                j = 1\n",
    "                while(i+j<len(hands) and hands[i][0] == hands[i+j][0]):\n",
    "                    j+=1\n",
    "                new_list.extend([hands[i][0] + s for s in sort_cards([hand[1:] for hand in hands[i:i+j]])])\n",
    "                i += j\n",
    "                \n",
    "        return new_list\n",
    "    \n",
    "    for hand in hands:\n",
    "        c = Counter(hand)\n",
    "        mc = c.most_common()\n",
    "        if mc[0][1] > 3:\n",
    "            label = str(mc[0][1])\n",
    "        elif mc[0][1] == 3:\n",
    "            label = 'F' if mc[1][1] == 2 else '3'\n",
    "        elif mc[0][1] == 2:\n",
    "            label = '2' if mc[1][1] == 2 else '1'\n",
    "        else:\n",
    "            label = 'H'\n",
    "        labels.append(label)\n",
    "        \n",
    "    labelled_hands = list(zip(hands, labels))\n",
    "    labelled_hands.sort(key = lambda x: label_order.index(x[1]))\n",
    "    new_list = []\n",
    "    i = 0\n",
    "    while (i < len(labelled_hands)):\n",
    "        if i == len(labelled_hands) - 1:\n",
    "            new_list.append(labelled_hands[i][0])\n",
    "            break\n",
    "        if labelled_hands[i][1] != labelled_hands[i+1][1]:\n",
    "            new_list.append(labelled_hands[i][0])\n",
    "        else:\n",
    "            j = 1\n",
    "            while(i+j<len(labelled_hands) and labelled_hands[i][1] == labelled_hands[i+j][1]):\n",
    "                j+=1\n",
    "            new_list.extend(sort_cards([l[0] for l in labelled_hands[i:i+j]]))\n",
    "            i += j\n",
    "                  \n",
    "    return new_list"
   ]
  },
  {
   "cell_type": "code",
   "execution_count": null,
   "id": "f2c79252-06ef-4e55-a26a-1c1988fe860e",
   "metadata": {
    "tags": []
   },
   "outputs": [],
   "source": [
    "sorted_hands = order([x[0] for x in hand_vals])\n",
    "sorted_vals = sorted(hand_vals, key= lambda x: sorted_hands.index(x[0]), reverse=True)\n",
    "res = sum([(i+1) * int(sorted_vals[i][1]) for i in range(len(sorted_vals))])"
   ]
  },
  {
   "cell_type": "code",
   "execution_count": 251,
   "id": "607cf8e5-965c-4ca2-ae5f-05aa686a97be",
   "metadata": {
    "tags": []
   },
   "outputs": [
    {
     "data": {
      "text/plain": [
       "['QQQJA', 'T55J5', 'KK677', 'KTJJT', '32T3K']"
      ]
     },
     "execution_count": 251,
     "metadata": {},
     "output_type": "execute_result"
    }
   ],
   "source": [
    "sorted_hands"
   ]
  },
  {
   "cell_type": "code",
   "execution_count": null,
   "id": "9c72e545-01db-4bd6-83f6-305c2db45283",
   "metadata": {},
   "outputs": [],
   "source": []
  }
 ],
 "metadata": {
  "kernelspec": {
   "display_name": "Python 3 (ipykernel)",
   "language": "python",
   "name": "python3"
  },
  "language_info": {
   "codemirror_mode": {
    "name": "ipython",
    "version": 3
   },
   "file_extension": ".py",
   "mimetype": "text/x-python",
   "name": "python",
   "nbconvert_exporter": "python",
   "pygments_lexer": "ipython3",
   "version": "3.11.5"
  }
 },
 "nbformat": 4,
 "nbformat_minor": 5
}
