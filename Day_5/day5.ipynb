{
 "cells": [
  {
   "cell_type": "code",
   "execution_count": 21,
   "id": "c007fe78-8867-46a0-815d-b3209e036063",
   "metadata": {},
   "outputs": [],
   "source": [
    "from collections import defaultdict"
   ]
  },
  {
   "cell_type": "code",
   "execution_count": 86,
   "id": "4c9b1ffa-6a25-4248-866e-df1598bf7c62",
   "metadata": {
    "tags": []
   },
   "outputs": [],
   "source": [
    "# with open('input.txt', 'r') as f:\n",
    "#     lines = f.readlines()\n",
    "# lines = [l.replace('\\n', '') for l in lines]\n",
    "# l = len(lines)\n",
    "\n",
    "# seeds = [int(x) for x in lines[0].split('seeds: ')[1].split(' ')]\n",
    "\n",
    "# i = 3\n",
    "\n",
    "# map_dict = defaultdict(dict)\n",
    "# key_list = [(i, i+1) for i in range(1, 8)]\n",
    "\n",
    "# for key in key_list:\n",
    "#     while( i < l - 1 and lines[i] != ''):\n",
    "#         values = [int(x) for x in lines[i].split(' ')]\n",
    "#         for j in range(values[2]):\n",
    "#             source_start = values[1]\n",
    "#             dest_start = values[0]\n",
    "#             map_dict[key][source_start + j] = dest_start + j\n",
    "#         i += 1\n",
    "#     i+=2 "
   ]
  },
  {
   "cell_type": "code",
   "execution_count": 113,
   "id": "582b8de6-1a1f-4f4b-82f9-19b0af3ce8db",
   "metadata": {
    "tags": []
   },
   "outputs": [],
   "source": [
    "f = open('input.txt').read().strip()\n",
    "seeds, *parts = [p.split('\\n') for p in f.split('\\n\\n')]\n",
    "seeds = [int(x) for x in seed.split(': ')[1].split(' ')]\n"
   ]
  },
  {
   "cell_type": "code",
   "execution_count": null,
   "id": "0cbc1ada-43e9-4bcc-b7d0-0422794ac531",
   "metadata": {
    "tags": []
   },
   "outputs": [],
   "source": [
    "def convert(value, source='seed', destination='location'):\n",
    "    type_key = {'seed': 1, 'soil': 2, 'fertilizer': 3, 'water': 4, 'light': 5, 'temperature': 6, 'humidity': 7, 'location': 8}\n",
    "    source, location = type_key[source], type_key[destination]\n",
    "    \n",
    "    for i in range(source, location):\n",
    "        value = map_dict[(i, i+1)][value] if value in map_dict[(i, i+1)] else value\n",
    "    \n",
    "    return value\n",
    "\n",
    "locations = [convert(seed) for seed in seeds]"
   ]
  },
  {
   "cell_type": "code",
   "execution_count": null,
   "id": "c29966c1-22af-47ea-8072-7994d936dddc",
   "metadata": {
    "tags": []
   },
   "outputs": [],
   "source": [
    "min(locations)"
   ]
  },
  {
   "cell_type": "code",
   "execution_count": null,
   "id": "558f5a36-f0ec-43a5-befe-ab97d65582f9",
   "metadata": {},
   "outputs": [],
   "source": []
  }
 ],
 "metadata": {
  "kernelspec": {
   "display_name": "Python 3 (ipykernel)",
   "language": "python",
   "name": "python3"
  },
  "language_info": {
   "codemirror_mode": {
    "name": "ipython",
    "version": 3
   },
   "file_extension": ".py",
   "mimetype": "text/x-python",
   "name": "python",
   "nbconvert_exporter": "python",
   "pygments_lexer": "ipython3",
   "version": "3.11.5"
  }
 },
 "nbformat": 4,
 "nbformat_minor": 5
}
